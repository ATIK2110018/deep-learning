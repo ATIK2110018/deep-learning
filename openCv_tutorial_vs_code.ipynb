{
 "cells": [
  {
   "cell_type": "markdown",
   "metadata": {},
   "source": [
    "Live direct drawing"
   ]
  },
  {
   "cell_type": "code",
   "execution_count": 28,
   "metadata": {},
   "outputs": [],
   "source": [
    "import cv2\n",
    "import numpy as np"
   ]
  },
  {
   "cell_type": "code",
   "execution_count": 2,
   "metadata": {},
   "outputs": [],
   "source": [
    "# we will interact with the image using any event like mouse click"
   ]
  },
  {
   "cell_type": "code",
   "execution_count": 3,
   "metadata": {},
   "outputs": [],
   "source": [
    "img=np.ones((512,512,3))\n",
    "cv2.imshow(\"image\",img)\n",
    "cv2.waitKey(0)\n",
    "cv2.destroyAllWindows()"
   ]
  },
  {
   "cell_type": "code",
   "execution_count": 4,
   "metadata": {},
   "outputs": [],
   "source": [
    "# this code will show the window untill event happens , event is pressing x"
   ]
  },
  {
   "cell_type": "code",
   "execution_count": null,
   "metadata": {},
   "outputs": [],
   "source": [
    "def draw(event,x,y,flags,param):\n",
    "    print(event)\n",
    "cv2.namedWindow(\"image\")\n",
    "cv2.setMouseCallback(\"image\",draw)\n",
    "\n",
    "\n",
    "while True: # in a infinite loop the image is displayed continously \n",
    "    cv2.imshow(\"image\",img)\n",
    "    if cv2.waitKey(1) & 0xFF == ord('x'): # the first condition is to wait for 1 ms and the second condition is to check if 'x' is pressed \n",
    "        break\n",
    "cv2.destroyAllWindows()"
   ]
  },
  {
   "cell_type": "code",
   "execution_count": 12,
   "metadata": {},
   "outputs": [],
   "source": [
    "# diffetent mouse event has different values\""
   ]
  },
  {
   "cell_type": "code",
   "execution_count": 6,
   "metadata": {},
   "outputs": [],
   "source": [
    "def draw(event,x,y,flags,param):\n",
    "    if event == 1:\n",
    "        cv2.circle(img,center=(x,y),radius=15,color=(255,0,0),thickness=-1) \n",
    "cv2.namedWindow(\"image\")\n",
    "cv2.setMouseCallback(\"image\",draw)\n",
    "\n",
    "while True: # in a infinite loop the image is displayed continously \n",
    "    cv2.imshow(\"image\",img)\n",
    "    if cv2.waitKey(1) & 0xFF == ord('x'): # the first condition is to wait for 1 ms and the second condition is to check if 'x' is pressed \n",
    "        break\n",
    "cv2.destroyAllWindows()"
   ]
  },
  {
   "cell_type": "code",
   "execution_count": 22,
   "metadata": {},
   "outputs": [],
   "source": [
    "# creating a customizable rectangle"
   ]
  },
  {
   "cell_type": "code",
   "execution_count": 23,
   "metadata": {},
   "outputs": [],
   "source": [
    "# to draw a rectangle we have to click at a point then drag and finally release the click"
   ]
  },
  {
   "cell_type": "code",
   "execution_count": 7,
   "metadata": {},
   "outputs": [],
   "source": [
    "img = np.ones((512, 512, 3))\n",
    "\n",
    "flag = False\n",
    "ix = -1  # current position of x\n",
    "iy = -1\n",
    "\n",
    "def draw(event, x, y, flags, param):\n",
    "    global ix, iy, flag\n",
    "    if event ==1:\n",
    "        flag = True\n",
    "        ix = x\n",
    "        iy = y  \n",
    "    elif event ==0:\n",
    "        if flag == True:\n",
    "            cv2.rectangle(img, pt1=(ix, iy), pt2=(x, y), color=(200, 0, 200), thickness=-1)\n",
    "    elif event == 4:\n",
    "        flag = False\n",
    "        cv2.rectangle(img, pt1=(ix, iy), pt2=(x, y), color=(200, 0, 200), thickness=-1)\n",
    "\n",
    "cv2.namedWindow(\"image\")\n",
    "cv2.setMouseCallback(\"image\",draw)\n",
    "\n",
    "while True: # in a infinite loop the image is displayed continously \n",
    "    cv2.imshow(\"image\",img)\n",
    "    if cv2.waitKey(1) & 0xFF == ord('x'): # the first condition is to wait for 1 ms and the second condition is to check if 'x' is pressed \n",
    "        break\n",
    "cv2.destroyAllWindows()"
   ]
  },
  {
   "cell_type": "code",
   "execution_count": 8,
   "metadata": {},
   "outputs": [],
   "source": [
    "# cxreating a real time image cropping tool"
   ]
  },
  {
   "cell_type": "code",
   "execution_count": 43,
   "metadata": {},
   "outputs": [
    {
     "name": "stderr",
     "output_type": "stream",
     "text": [
      "<>:1: SyntaxWarning: invalid escape sequence '\\c'\n",
      "<>:1: SyntaxWarning: invalid escape sequence '\\c'\n",
      "C:\\Users\\atikr\\AppData\\Local\\Temp\\ipykernel_19984\\532739939.py:1: SyntaxWarning: invalid escape sequence '\\c'\n",
      "  img=cv2.imread(\"datasets\\cat.jpg\")\n"
     ]
    }
   ],
   "source": [
    "img=cv2.imread(\"datasets\\cat.jpg\")"
   ]
  },
  {
   "cell_type": "code",
   "execution_count": 44,
   "metadata": {},
   "outputs": [
    {
     "data": {
      "text/plain": [
       "tuple"
      ]
     },
     "execution_count": 44,
     "metadata": {},
     "output_type": "execute_result"
    }
   ],
   "source": [
    "type(img.shape)"
   ]
  },
  {
   "cell_type": "code",
   "execution_count": 45,
   "metadata": {},
   "outputs": [],
   "source": [
    "cv2.imshow(\"image\", img)\n",
    "cv2.waitKey(0)\n",
    "cv2.destroyAllWindows()"
   ]
  },
  {
   "cell_type": "code",
   "execution_count": null,
   "metadata": {},
   "outputs": [],
   "source": []
  }
 ],
 "metadata": {
  "kernelspec": {
   "display_name": "Python 3",
   "language": "python",
   "name": "python3"
  },
  "language_info": {
   "codemirror_mode": {
    "name": "ipython",
    "version": 3
   },
   "file_extension": ".py",
   "mimetype": "text/x-python",
   "name": "python",
   "nbconvert_exporter": "python",
   "pygments_lexer": "ipython3",
   "version": "3.13.5"
  }
 },
 "nbformat": 4,
 "nbformat_minor": 2
}
