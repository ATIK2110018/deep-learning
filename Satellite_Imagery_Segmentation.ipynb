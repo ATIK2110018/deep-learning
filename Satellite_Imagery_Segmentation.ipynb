{
  "nbformat": 4,
  "nbformat_minor": 0,
  "metadata": {
    "colab": {
      "provenance": [],
      "include_colab_link": true
    },
    "kernelspec": {
      "name": "python3",
      "display_name": "Python 3"
    },
    "language_info": {
      "name": "python"
    }
  },
  "cells": [
    {
      "cell_type": "markdown",
      "metadata": {
        "id": "view-in-github",
        "colab_type": "text"
      },
      "source": [
        "<a href=\"https://colab.research.google.com/github/ATIK2110018/deep-learning/blob/main/Satellite_Imagery_Segmentation.ipynb\" target=\"_parent\"><img src=\"https://colab.research.google.com/assets/colab-badge.svg\" alt=\"Open In Colab\"/></a>"
      ]
    },
    {
      "cell_type": "code",
      "source": [
        "from google.colab import drive\n",
        "drive.mount('/content/drive')"
      ],
      "metadata": {
        "colab": {
          "base_uri": "https://localhost:8080/"
        },
        "id": "TzKub4yl7RNh",
        "outputId": "64d4333b-fe5f-45a0-b2d0-e4175baebdf0"
      },
      "execution_count": 1,
      "outputs": [
        {
          "output_type": "stream",
          "name": "stdout",
          "text": [
            "Mounted at /content/drive\n"
          ]
        }
      ]
    },
    {
      "cell_type": "code",
      "source": [
        "!pip install patchify"
      ],
      "metadata": {
        "colab": {
          "base_uri": "https://localhost:8080/",
          "height": 443
        },
        "id": "oF9Z720Vm7oF",
        "outputId": "05c3f1cc-1102-44a0-aa5e-a99ff5805fd6"
      },
      "execution_count": 2,
      "outputs": [
        {
          "output_type": "stream",
          "name": "stdout",
          "text": [
            "Collecting patchify\n",
            "  Downloading patchify-0.2.3-py3-none-any.whl.metadata (3.0 kB)\n",
            "Collecting numpy<2,>=1 (from patchify)\n",
            "  Downloading numpy-1.26.4-cp311-cp311-manylinux_2_17_x86_64.manylinux2014_x86_64.whl.metadata (61 kB)\n",
            "\u001b[2K     \u001b[90m━━━━━━━━━━━━━━━━━━━━━━━━━━━━━━━━━━━━━━━━\u001b[0m \u001b[32m61.0/61.0 kB\u001b[0m \u001b[31m5.0 MB/s\u001b[0m eta \u001b[36m0:00:00\u001b[0m\n",
            "\u001b[?25hDownloading patchify-0.2.3-py3-none-any.whl (6.6 kB)\n",
            "Downloading numpy-1.26.4-cp311-cp311-manylinux_2_17_x86_64.manylinux2014_x86_64.whl (18.3 MB)\n",
            "\u001b[2K   \u001b[90m━━━━━━━━━━━━━━━━━━━━━━━━━━━━━━━━━━━━━━━━\u001b[0m \u001b[32m18.3/18.3 MB\u001b[0m \u001b[31m59.7 MB/s\u001b[0m eta \u001b[36m0:00:00\u001b[0m\n",
            "\u001b[?25hInstalling collected packages: numpy, patchify\n",
            "  Attempting uninstall: numpy\n",
            "    Found existing installation: numpy 2.0.2\n",
            "    Uninstalling numpy-2.0.2:\n",
            "      Successfully uninstalled numpy-2.0.2\n",
            "\u001b[31mERROR: pip's dependency resolver does not currently take into account all the packages that are installed. This behaviour is the source of the following dependency conflicts.\n",
            "thinc 8.3.6 requires numpy<3.0.0,>=2.0.0, but you have numpy 1.26.4 which is incompatible.\n",
            "opencv-python 4.12.0.88 requires numpy<2.3.0,>=2; python_version >= \"3.9\", but you have numpy 1.26.4 which is incompatible.\n",
            "opencv-python-headless 4.12.0.88 requires numpy<2.3.0,>=2; python_version >= \"3.9\", but you have numpy 1.26.4 which is incompatible.\n",
            "opencv-contrib-python 4.12.0.88 requires numpy<2.3.0,>=2; python_version >= \"3.9\", but you have numpy 1.26.4 which is incompatible.\u001b[0m\u001b[31m\n",
            "\u001b[0mSuccessfully installed numpy-1.26.4 patchify-0.2.3\n"
          ]
        },
        {
          "output_type": "display_data",
          "data": {
            "application/vnd.colab-display-data+json": {
              "pip_warning": {
                "packages": [
                  "numpy"
                ]
              },
              "id": "915afc623503419b979481ae3ccbef65"
            }
          },
          "metadata": {}
        }
      ]
    },
    {
      "cell_type": "code",
      "source": [
        "import os\n",
        "import cv2\n",
        "from PIL import Image\n",
        "import numpy as np\n",
        "from patchify import patchify\n",
        "from sklearn.preprocessing import MinMaxScaler, StandardScaler\n",
        "\n",
        "from matplotlib import pyplot as plt\n",
        "import random"
      ],
      "metadata": {
        "id": "ZcQm4iMffm6p"
      },
      "execution_count": 49,
      "outputs": []
    },
    {
      "cell_type": "code",
      "execution_count": 51,
      "metadata": {
        "colab": {
          "base_uri": "https://localhost:8080/"
        },
        "id": "a7VD8MBEY6ET",
        "outputId": "a45c104b-d98b-491f-f2c3-cac755b31ca5"
      },
      "outputs": [
        {
          "output_type": "stream",
          "name": "stdout",
          "text": [
            "total 33K\n",
            "-rw------- 1 root root  548 Jul 30 18:06  classes.json\n",
            "drwx------ 4 root root 4.0K Jul 31 09:27 'Tile 1'\n",
            "drwx------ 4 root root 4.0K Jul 31 09:27 'Tile 2'\n",
            "drwx------ 4 root root 4.0K Jul 31 09:27 'Tile 3'\n",
            "drwx------ 4 root root 4.0K Jul 31 09:27 'Tile 4'\n",
            "drwx------ 4 root root 4.0K Jul 31 09:27 'Tile 5'\n",
            "drwx------ 4 root root 4.0K Jul 31 09:27 'Tile 6'\n",
            "drwx------ 4 root root 4.0K Jul 31 09:27 'Tile 7'\n",
            "drwx------ 4 root root 4.0K Jul 31 09:27 'Tile 8'\n"
          ]
        }
      ],
      "source": [
        "!ls -lah '/content/drive/MyDrive/Colab Notebooks/Deep Learning/datasets/DubaiDataset'"
      ]
    },
    {
      "cell_type": "code",
      "source": [
        "dataset_root_folder = '/content/drive/MyDrive/Colab Notebooks/Deep Learning/datasets'"
      ],
      "metadata": {
        "id": "U6F-SlBiewSn"
      },
      "execution_count": 52,
      "outputs": []
    },
    {
      "cell_type": "code",
      "source": [
        "dataset_name = \"DubaiDataset\""
      ],
      "metadata": {
        "id": "XLnvmxjQfFWt"
      },
      "execution_count": 53,
      "outputs": []
    },
    {
      "cell_type": "code",
      "source": [
        "for path, subdirs, files in os.walk(os.path.join(dataset_root_folder, dataset_name)):\n",
        "  dir_name = path.split(os.path.sep)[-1] #os.path.sep will separate the paths and -1 will show the last path\n",
        "  # like  education/level1/term1  it will show ['term1']\n",
        "  if dir_name == 'masks': # we can use \"image\" also\n",
        "    images = os.listdir(path)\n",
        "    #print(dir_name)\n",
        "    #print(path)\n",
        "    #print(images)\n",
        "    for i, image_name in enumerate(images):\n",
        "      if (image_name.endswith('.png')): # '.jpg\n",
        "        #print(image_name)\n",
        "        a=True  # given to make the condition workable"
      ],
      "metadata": {
        "id": "lz0A6YJtfJib"
      },
      "execution_count": 54,
      "outputs": []
    },
    {
      "cell_type": "code",
      "source": [
        "image_patch_size = 256"
      ],
      "metadata": {
        "id": "KgCSYp45kBgW"
      },
      "execution_count": 55,
      "outputs": []
    },
    {
      "cell_type": "code",
      "source": [
        "image = cv2.imread(f'{dataset_root_folder}/{dataset_name}/Tile 2/images/image_part_001.jpg',1)"
      ],
      "metadata": {
        "id": "iLDzVDv3f48Y"
      },
      "execution_count": 56,
      "outputs": []
    },
    {
      "cell_type": "code",
      "source": [
        "image.shape"
      ],
      "metadata": {
        "colab": {
          "base_uri": "https://localhost:8080/"
        },
        "id": "XpxEOKwDnZHL",
        "outputId": "21f8089c-92f1-4a63-b44c-2fc3b24aade6"
      },
      "execution_count": 57,
      "outputs": [
        {
          "output_type": "execute_result",
          "data": {
            "text/plain": [
              "(544, 509, 3)"
            ]
          },
          "metadata": {},
          "execution_count": 57
        }
      ]
    },
    {
      "cell_type": "code",
      "source": [
        "# different images has different shapes . now we have to make the sizes a multiple of a unit size to create patches"
      ],
      "metadata": {
        "id": "T2zCRHCrQM4g"
      },
      "execution_count": 60,
      "outputs": []
    },
    {
      "cell_type": "code",
      "source": [
        "(image.shape[0]//image_patch_size)*image_patch_size"
      ],
      "metadata": {
        "id": "BiJFqn5IPxr0",
        "outputId": "da7c7d68-56f0-47c2-c706-1fae8d498965",
        "colab": {
          "base_uri": "https://localhost:8080/"
        }
      },
      "execution_count": 58,
      "outputs": [
        {
          "output_type": "execute_result",
          "data": {
            "text/plain": [
              "512"
            ]
          },
          "metadata": {},
          "execution_count": 58
        }
      ]
    },
    {
      "cell_type": "code",
      "source": [
        "(image.shape[1]//image_patch_size)*image_patch_size"
      ],
      "metadata": {
        "id": "qi6AKhBlP9to",
        "outputId": "478f28c2-ef47-4f9e-a868-296d025e7aef",
        "colab": {
          "base_uri": "https://localhost:8080/"
        }
      },
      "execution_count": 59,
      "outputs": [
        {
          "output_type": "execute_result",
          "data": {
            "text/plain": [
              "256"
            ]
          },
          "metadata": {},
          "execution_count": 59
        }
      ]
    },
    {
      "cell_type": "code",
      "source": [
        "# so have to crop the first image to 512*256"
      ],
      "metadata": {
        "id": "6LVqLOvNQBuW"
      },
      "execution_count": null,
      "outputs": []
    },
    {
      "cell_type": "code",
      "source": [
        "image_type='images' #'masks'\n",
        "image_extension='jpg' # 'png'\n",
        "for tile_id in range(1,8):\n",
        "  for image_id in range (1,9):\n",
        "    image = cv2.imread(f'{dataset_root_folder}/{dataset_name}/Tile {tile_id}/{image_type}/image_part_00{image_id}.{image_extension}')\n",
        "    if image is not None:\n",
        "      print(image.shape)"
      ],
      "metadata": {
        "collapsed": true,
        "id": "IhopVsrHK2Fw",
        "outputId": "54a2d6b0-228f-497e-bfef-8cccacc75ce2",
        "colab": {
          "base_uri": "https://localhost:8080/"
        }
      },
      "execution_count": 46,
      "outputs": [
        {
          "output_type": "stream",
          "name": "stdout",
          "text": [
            "(644, 797, 3)\n",
            "(644, 797, 3)\n",
            "(644, 797, 3)\n",
            "(643, 797, 3)\n",
            "(643, 797, 3)\n",
            "(643, 797, 3)\n",
            "(644, 797, 3)\n",
            "(644, 797, 3)\n",
            "(544, 509, 3)\n",
            "(544, 510, 3)\n",
            "(544, 509, 3)\n",
            "(544, 509, 3)\n",
            "(544, 510, 3)\n",
            "(544, 509, 3)\n",
            "(544, 509, 3)\n",
            "(544, 510, 3)\n",
            "(658, 682, 3)\n",
            "(658, 682, 3)\n",
            "(658, 682, 3)\n",
            "(658, 682, 3)\n",
            "(658, 682, 3)\n",
            "(658, 682, 3)\n",
            "(658, 682, 3)\n",
            "(658, 682, 3)\n",
            "(846, 1099, 3)\n",
            "(846, 1099, 3)\n",
            "(846, 1099, 3)\n",
            "(846, 1099, 3)\n",
            "(846, 1099, 3)\n",
            "(846, 1099, 3)\n",
            "(846, 1099, 3)\n",
            "(846, 1099, 3)\n",
            "(1058, 1126, 3)\n",
            "(1058, 1126, 3)\n",
            "(1058, 1126, 3)\n",
            "(1058, 1126, 3)\n",
            "(1058, 1126, 3)\n",
            "(1058, 1126, 3)\n",
            "(1058, 1126, 3)\n",
            "(1058, 1126, 3)\n",
            "(838, 859, 3)\n",
            "(838, 859, 3)\n",
            "(838, 859, 3)\n",
            "(838, 859, 3)\n",
            "(838, 859, 3)\n",
            "(838, 859, 3)\n",
            "(838, 859, 3)\n",
            "(838, 859, 3)\n",
            "(2061, 1817, 3)\n",
            "(2061, 1816, 3)\n",
            "(2061, 1817, 3)\n",
            "(2062, 1817, 3)\n",
            "(2062, 1816, 3)\n",
            "(2062, 1817, 3)\n",
            "(2061, 1817, 3)\n",
            "(2061, 1816, 3)\n"
          ]
        }
      ]
    },
    {
      "cell_type": "code",
      "source": [
        "# croping all the images to its nearest mutiplier of 256|"
      ],
      "metadata": {
        "id": "Atc7pkhURSKh"
      },
      "execution_count": 62,
      "outputs": []
    },
    {
      "cell_type": "code",
      "source": [
        "image_type='images' #'masks'\n",
        "image_extension='jpg' # 'png'\n",
        "for tile_id in range(1,8):\n",
        "  for image_id in range (1,20):\n",
        "    image = cv2.imread(f'{dataset_root_folder}/{dataset_name}/Tile {tile_id}/{image_type}/image_part_00{image_id}.{image_extension}')\n",
        "    if image is not None:\n",
        "      #print(image.shape)\n",
        "      size_x=(image.shape[1]//image_patch_size)*image_patch_size\n",
        "      size_y=(image.shape[0]//image_patch_size)*image_patch_size\n",
        "      image=Image.fromarray(image)\n",
        "      image=image.crop((0,0,size_x,size_y))\n",
        "      image=np.array(image)\n",
        "      print(image.shape)\n"
      ],
      "metadata": {
        "collapsed": true,
        "id": "8DAmGtrWPIJv",
        "outputId": "d5fdeab6-5d3f-411f-a8fa-48a6686059ea",
        "colab": {
          "base_uri": "https://localhost:8080/"
        }
      },
      "execution_count": 61,
      "outputs": [
        {
          "output_type": "stream",
          "name": "stdout",
          "text": [
            "(512, 768, 3)\n",
            "(512, 768, 3)\n",
            "(512, 768, 3)\n",
            "(512, 768, 3)\n",
            "(512, 768, 3)\n",
            "(512, 768, 3)\n",
            "(512, 768, 3)\n",
            "(512, 768, 3)\n",
            "(512, 768, 3)\n",
            "(512, 256, 3)\n",
            "(512, 256, 3)\n",
            "(512, 256, 3)\n",
            "(512, 256, 3)\n",
            "(512, 256, 3)\n",
            "(512, 256, 3)\n",
            "(512, 256, 3)\n",
            "(512, 256, 3)\n",
            "(512, 256, 3)\n",
            "(512, 512, 3)\n",
            "(512, 512, 3)\n",
            "(512, 512, 3)\n",
            "(512, 512, 3)\n",
            "(512, 512, 3)\n",
            "(512, 512, 3)\n",
            "(512, 512, 3)\n",
            "(512, 512, 3)\n",
            "(512, 512, 3)\n",
            "(768, 1024, 3)\n",
            "(768, 1024, 3)\n",
            "(768, 1024, 3)\n",
            "(768, 1024, 3)\n",
            "(768, 1024, 3)\n",
            "(768, 1024, 3)\n",
            "(768, 1024, 3)\n",
            "(768, 1024, 3)\n",
            "(768, 1024, 3)\n",
            "(1024, 1024, 3)\n",
            "(1024, 1024, 3)\n",
            "(1024, 1024, 3)\n",
            "(1024, 1024, 3)\n",
            "(1024, 1024, 3)\n",
            "(1024, 1024, 3)\n",
            "(1024, 1024, 3)\n",
            "(1024, 1024, 3)\n",
            "(1024, 1024, 3)\n",
            "(768, 768, 3)\n",
            "(768, 768, 3)\n",
            "(768, 768, 3)\n",
            "(768, 768, 3)\n",
            "(768, 768, 3)\n",
            "(768, 768, 3)\n",
            "(768, 768, 3)\n",
            "(768, 768, 3)\n",
            "(768, 768, 3)\n",
            "(2048, 1792, 3)\n",
            "(2048, 1792, 3)\n",
            "(2048, 1792, 3)\n",
            "(2048, 1792, 3)\n",
            "(2048, 1792, 3)\n",
            "(2048, 1792, 3)\n",
            "(2048, 1792, 3)\n",
            "(2048, 1792, 3)\n",
            "(2048, 1792, 3)\n"
          ]
        }
      ]
    },
    {
      "cell_type": "code",
      "source": [
        "#now we have to patch the images"
      ],
      "metadata": {
        "id": "51VyTVUdR1MR"
      },
      "execution_count": 63,
      "outputs": []
    },
    {
      "cell_type": "code",
      "source": [
        "image_type='images' #'masks'\n",
        "image_extension='jpg' # 'png'\n",
        "for tile_id in range(1,8):\n",
        "  for image_id in range (1,20):\n",
        "    image = cv2.imread(f'{dataset_root_folder}/{dataset_name}/Tile {tile_id}/{image_type}/image_part_00{image_id}.{image_extension}')\n",
        "    if image is not None:\n",
        "      #print(image.shape)\n",
        "      size_x=(image.shape[1]//image_patch_size)*image_patch_size\n",
        "      size_y=(image.shape[0]//image_patch_size)*image_patch_size\n",
        "      image=Image.fromarray(image)\n",
        "      image=image.crop((0,0,size_x,size_y))\n",
        "      image=np.array(image)\n",
        "      patched_image=patchify(image,(image_patch_size,image_patch_size,3), step=image_patch_size) #no overlaping\n",
        "      print(len(patched_image))"
      ],
      "metadata": {
        "collapsed": true,
        "id": "Wb_5fNuzSJbQ",
        "outputId": "f060d0af-ca01-4865-bbf5-8de4a350ada2",
        "colab": {
          "base_uri": "https://localhost:8080/"
        }
      },
      "execution_count": 64,
      "outputs": [
        {
          "output_type": "stream",
          "name": "stdout",
          "text": [
            "2\n",
            "2\n",
            "2\n",
            "2\n",
            "2\n",
            "2\n",
            "2\n",
            "2\n",
            "2\n",
            "2\n",
            "2\n",
            "2\n",
            "2\n",
            "2\n",
            "2\n",
            "2\n",
            "2\n",
            "2\n",
            "2\n",
            "2\n",
            "2\n",
            "2\n",
            "2\n",
            "2\n",
            "2\n",
            "2\n",
            "2\n",
            "3\n",
            "3\n",
            "3\n",
            "3\n",
            "3\n",
            "3\n",
            "3\n",
            "3\n",
            "3\n",
            "4\n",
            "4\n",
            "4\n",
            "4\n",
            "4\n",
            "4\n",
            "4\n",
            "4\n",
            "4\n",
            "3\n",
            "3\n",
            "3\n",
            "3\n",
            "3\n",
            "3\n",
            "3\n",
            "3\n",
            "3\n",
            "8\n",
            "8\n",
            "8\n",
            "8\n",
            "8\n",
            "8\n",
            "8\n",
            "8\n",
            "8\n"
          ]
        }
      ]
    },
    {
      "cell_type": "code",
      "source": [
        "#now normalizing the data"
      ],
      "metadata": {
        "id": "zqq6UvlbSo-B"
      },
      "execution_count": 65,
      "outputs": []
    },
    {
      "cell_type": "code",
      "source": [
        "scaler=MinMaxScaler()"
      ],
      "metadata": {
        "id": "tROP4LwrTKOa"
      },
      "execution_count": 66,
      "outputs": []
    },
    {
      "cell_type": "code",
      "source": [
        ""
      ],
      "metadata": {
        "id": "pD-GLOCPTMol"
      },
      "execution_count": null,
      "outputs": []
    }
  ]
}